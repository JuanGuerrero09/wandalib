{
 "cells": [
  {
   "cell_type": "code",
   "execution_count": null,
   "metadata": {},
   "outputs": [
    {
     "name": "stdout",
     "output_type": "stream",
     "text": [
      "None\n"
     ]
    },
    {
     "ename": "ModuleNotFoundError",
     "evalue": "No module named 'wandalib'",
     "output_type": "error",
     "traceback": [
      "\u001b[1;31m---------------------------------------------------------------------------\u001b[0m",
      "\u001b[1;31mModuleNotFoundError\u001b[0m                       Traceback (most recent call last)",
      "Cell \u001b[1;32mIn[3], line 17\u001b[0m\n\u001b[0;32m     14\u001b[0m \u001b[38;5;28mprint\u001b[39m(sys\u001b[38;5;241m.\u001b[39mpath\u001b[38;5;241m.\u001b[39mappend(ruta_wanda_library))\n\u001b[0;32m     16\u001b[0m \u001b[38;5;66;03m# Importar el paquete wandalib\u001b[39;00m\n\u001b[1;32m---> 17\u001b[0m \u001b[38;5;28;01mfrom\u001b[39;00m\u001b[38;5;250m \u001b[39m\u001b[38;5;21;01mwandalib\u001b[39;00m\u001b[38;5;250m \u001b[39m\u001b[38;5;28;01mimport\u001b[39;00m \u001b[38;5;241m*\u001b[39m\n\u001b[0;32m     20\u001b[0m cwd \u001b[38;5;241m=\u001b[39m  \u001b[38;5;124mr\u001b[39m\u001b[38;5;124m'\u001b[39m\u001b[38;5;124mC:\u001b[39m\u001b[38;5;124m\\\u001b[39m\u001b[38;5;124mUsers\u001b[39m\u001b[38;5;124m\\\u001b[39m\u001b[38;5;124mjuan.guerrero\u001b[39m\u001b[38;5;124m\\\u001b[39m\u001b[38;5;124mDownloads\u001b[39m\u001b[38;5;124m\\\u001b[39m\u001b[38;5;124mwanda\u001b[39m\u001b[38;5;124m\\\u001b[39m\u001b[38;5;124mSIO\u001b[39m\u001b[38;5;124m\\\u001b[39m\u001b[38;5;124mtransient_results\u001b[39m\u001b[38;5;124m'\u001b[39m\n\u001b[0;32m     21\u001b[0m wanda_bin \u001b[38;5;241m=\u001b[39m \u001b[38;5;124mr\u001b[39m\u001b[38;5;124m'\u001b[39m\u001b[38;5;124mC:\u001b[39m\u001b[38;5;124m\\\u001b[39m\u001b[38;5;124mProgram Files (x86)\u001b[39m\u001b[38;5;124m\\\u001b[39m\u001b[38;5;124mDeltares\u001b[39m\u001b[38;5;124m\\\u001b[39m\u001b[38;5;124mWanda 4.7\u001b[39m\u001b[38;5;124m\\\u001b[39m\u001b[38;5;124mBin\u001b[39m\u001b[38;5;130;01m\\\\\u001b[39;00m\u001b[38;5;124m'\u001b[39m\n",
      "\u001b[1;31mModuleNotFoundError\u001b[0m: No module named 'wandalib'"
     ]
    }
   ],
   "source": [
    "import pywanda\n",
    "import os\n",
    "import matplotlib.pyplot as plt\n",
    "import pandas as pd\n",
    "import numpy as np \n",
    "import math\n",
    "import sys\n",
    "import os\n",
    "\n",
    "# Agregar la ruta de wanda-library al sys.path\n",
    "ruta_wanda_library = os.path.abspath(os.path.join(\"..\", \"wanda-library\"))\n",
    "sys.path.append(ruta_wanda_library)\n",
    "\n",
    "# Importar el paquete wandalib\n",
    "from wandalib import *\n",
    "\n",
    "\n",
    "cwd =  r'C:\\Users\\juan.guerrero\\Downloads\\wanda\\SIO\\transient_results'\n",
    "wanda_bin = r'C:\\Program Files (x86)\\Deltares\\Wanda 4.7\\Bin\\\\'\n",
    "\n",
    "start_line = [\"PIPE LINE START 1\", \"PIPE LINE START 2\", \"PIPE LINE START 3\", \"PIPE LINE START 4\", \"PIPE LINE START 5\", \"PIPE LINE START 6\"]\n",
    "\n",
    "farm_line = [*start_line, \"PIPE LINE FARM 1\", \"PIPE LINE FARM 2\", \"PIPE LINE FARM 3\", \"PIPE LINE FARM 4\", \"PIPE LINE FARM 5\", \"PIPE LINE FARM 6\"]\n",
    "\n",
    "momra_line = [*start_line, \"PIPE LINE MOMRAH 1\", \"PIPE LINE MOMRAH 2\", \"PIPE LINE MOMRAH 3\", \"PIPE LINE MOMRAH 4\", \"PIPE LINE MOMRAH 5\"]\n",
    "\n",
    "\n",
    "reservoir = [\"BOUNDH B1\"]\n",
    "tap = [\"TAP FARM\"]\n",
    "wanda_file = os.path.join(cwd, \"PUMP_SHUTDOWN_MV_TIE.wdi\")\n",
    "sio_basemodel = pywanda.WandaModel(wanda_file, wanda_bin)\n",
    "sio_basemodel.reload_output()\n",
    "\n",
    "reservoir_parameters = [\"Discharge 1\", \"Head 1\", \"Pressure 1\", \"Volume\"]\n",
    "tap_parameters = [\"Discharge 1\", \"Head 1\", \"Pressure 1\", \"Volume\"]\n",
    "pipe_parameters = [\"Discharge 1\", \"Head 1\", \"Pressure 1\", \"Volume\"]"
   ]
  },
  {
   "cell_type": "code",
   "execution_count": null,
   "metadata": {},
   "outputs": [],
   "source": [
    "steady_farm, profile_farm = get_pipe_head_steady(sio_basemodel, farm_line)\n",
    "steady_momrah, profile_momrah = get_pipe_head_steady(sio_basemodel, momra_line)\n",
    "\n",
    "fig, bx = get_pipe_head_graphs_from_steady(steady_farm, profile_farm, title=\"Pipeline Head to Farms\")\n",
    "fig, ax = get_pipe_head_graphs_from_steady(steady_momrah, profile_momrah, title=\"Pipeline Head to MOMRAH\")\n",
    "\n",
    "av_start_line_1v = [(390, 2000), (1379.47, 2006)]\n",
    "av_farm_line_1v = [*av_start_line_1v, (3752.46, 2020)]\n",
    "av_momrah_line_1v = [*av_start_line_1v, (3135.11, 2023), (3439.37, 2020)]\n",
    "# Coordenadas donde se colocarán los triángulos (ejemplo)\n",
    "av_start_line_2v = [(713.55, 2008.2), (2021.43, 2020.22), (2561.34, 2024.29)]\n",
    "av_farm_line_2v = [*av_start_line_2v, (3261.46, 2023.28), (3835.22, 2021.48)]\n",
    "av_momrah_line_2v = [*av_start_line_2v]\n",
    "\n",
    "# Añadir triángulos al gráfico\n",
    "# Crear gráficos para farm\n",
    "add_air_valves(bx, av_farm_line_1v, size=35, label=\"1 Air Valve\")\n",
    "add_air_valves(bx, av_farm_line_2v, size=35, label=\"2 Air Valves\", color=\"blue\")\n",
    "bx.legend()\n",
    "\n",
    "# Crear gráficos para momrah\n",
    "add_air_valves(ax, av_momrah_line_1v, size=35, label=\"1 Air Valve\")\n",
    "add_air_valves(ax, av_momrah_line_2v, size=35, label=\"2 Air Valves\", color=\"blue\")\n",
    "ax.legend()\n",
    "plt.show()\n",
    "\n",
    "farm_steady, farm_max_press, farm_min_press = get_transient_pressures(sio_basemodel, farm_line, print_messages=False, is_returning_series=True)\n",
    "\n",
    "farm_transient_df = {\n",
    "    \"Steady Pressure\": farm_steady,\n",
    "    \"Maximum Pressure\": farm_max_press,\n",
    "    \"Minimum Pressure\": farm_min_press\n",
    "}\n",
    "\n",
    "farm_transient_df = pd.DataFrame(farm_transient_df)\n",
    "print(farm_transient_df)\n",
    "graph_transient_pressures(farm_transient_df)\n",
    "\n",
    "momrah_transient_df = get_transient_pressures(sio_basemodel, momra_line, print_messages=False)\n",
    "print(momrah_transient_df)\n",
    "graph_transient_pressures(momrah_transient_df)\n",
    "\n",
    "get_pipe_head_graphs(sio_basemodel, farm_line)\n",
    "get_pipe_head_graphs(sio_basemodel, momra_line)\n",
    "\n",
    "\n"
   ]
  }
 ],
 "metadata": {
  "kernelspec": {
   "display_name": ".venv",
   "language": "python",
   "name": "python3"
  },
  "language_info": {
   "codemirror_mode": {
    "name": "ipython",
    "version": 3
   },
   "file_extension": ".py",
   "mimetype": "text/x-python",
   "name": "python",
   "nbconvert_exporter": "python",
   "pygments_lexer": "ipython3",
   "version": "3.10.16"
  }
 },
 "nbformat": 4,
 "nbformat_minor": 2
}
